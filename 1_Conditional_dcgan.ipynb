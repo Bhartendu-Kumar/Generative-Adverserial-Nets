{
 "cells": [
  {
   "cell_type": "code",
   "execution_count": 59,
   "metadata": {},
   "outputs": [],
   "source": [
    "# we will implement DCGAN on SVHN dataset. The dataset is available at http://ufldl.stanford.edu/housenumbers/. The dataset is a collection of 32x32 color images of house numbers. The dataset is split into 3 parts: train, test and extra. We will use the train and test set for training and testing respectively. The extra set is not used in this tutorial."
   ]
  },
  {
   "cell_type": "code",
   "execution_count": 77,
   "metadata": {},
   "outputs": [],
   "source": [
    "model_name = \"c_dcgan1\"\n",
    "#check model saving path is there"
   ]
  },
  {
   "cell_type": "markdown",
   "metadata": {},
   "source": [
    "# Imports"
   ]
  },
  {
   "cell_type": "code",
   "execution_count": 61,
   "metadata": {},
   "outputs": [],
   "source": [
    "\n",
    "import torch\n",
    "import torch.nn as nn\n",
    "import torch.optim as optim\n",
    "import torchvision\n",
    "import torchvision.datasets as datasets\n",
    "import torchvision.transforms as transforms\n",
    "from torch.utils.data import DataLoader\n",
    "from torch.utils.tensorboard import SummaryWriter"
   ]
  },
  {
   "cell_type": "markdown",
   "metadata": {},
   "source": [
    "# Hyperparameters and constants: for dataset and training\n"
   ]
  },
  {
   "cell_type": "code",
   "execution_count": 74,
   "metadata": {},
   "outputs": [],
   "source": [
    "# Hyperparameters etc.\n",
    "device = torch.device(\"cuda\" if torch.cuda.is_available() else \"cpu\")\n",
    "LEARNING_RATE = 2e-4  # could also use two lrs, one for gen and one for disc\n",
    "BATCH_SIZE = 3200\n",
    "IMAGE_SIZE = 64\n",
    "CHANNELS_IMG = 3\n",
    "NUM_CLASSES = 10\n",
    "GEN_EMBEDDING = 100\n",
    "NOISE_DIM = 100\n",
    "NUM_EPOCHS = 5\n",
    "FEATURES_DISC = 64\n",
    "FEATURES_GEN = 64"
   ]
  },
  {
   "cell_type": "markdown",
   "metadata": {},
   "source": [
    "# preparing Dataset"
   ]
  },
  {
   "cell_type": "markdown",
   "metadata": {},
   "source": [
    "### we will use SVHN dataset for this example\n",
    "### we will combine the train, test and extra datasets to make a bigger dataset\n"
   ]
  },
  {
   "cell_type": "code",
   "execution_count": 63,
   "metadata": {},
   "outputs": [],
   "source": [
    "transforms = transforms.Compose(\n",
    "    [\n",
    "        transforms.Resize(IMAGE_SIZE),\n",
    "        transforms.ToTensor(),\n",
    "        transforms.Normalize(\n",
    "            [0.5 for _ in range(CHANNELS_IMG)], [0.5 for _ in range(CHANNELS_IMG)]\n",
    "        ),\n",
    "    ]\n",
    ")"
   ]
  },
  {
   "cell_type": "code",
   "execution_count": 64,
   "metadata": {},
   "outputs": [
    {
     "name": "stdout",
     "output_type": "stream",
     "text": [
      "Using downloaded and verified file: dataset_svhm/train_32x32.mat\n",
      "Using downloaded and verified file: dataset_svhm/test_32x32.mat\n",
      "Using downloaded and verified file: dataset_svhm/extra_32x32.mat\n"
     ]
    }
   ],
   "source": [
    "#get the dataset\n",
    "#train part of svhn\n",
    "train_dataset = datasets.SVHN(root=\"dataset_svhm/\", split='train', transform=transforms, download=True)\n",
    "#test part of svhn\n",
    "test_dataset = datasets.SVHN(root=\"dataset_svhm/\", split='test', transform=transforms, download=True)\n",
    "#extra part of svhn\n",
    "extra_dataset = datasets.SVHN(root=\"dataset_svhm/\", split='extra', transform=transforms, download=True)\n",
    "#concatenate the train, test and extra dataset\n",
    "dataset = torch.utils.data.ConcatDataset([train_dataset, test_dataset, extra_dataset])\n",
    "loader = DataLoader(\n",
    "    dataset,\n",
    "    batch_size=BATCH_SIZE,\n",
    "    shuffle=True,\n",
    ")\n"
   ]
  },
  {
   "cell_type": "code",
   "execution_count": 65,
   "metadata": {},
   "outputs": [
    {
     "name": "stdout",
     "output_type": "stream",
     "text": [
      "630420\n",
      "torch.Size([3, 64, 64])\n",
      "1\n"
     ]
    }
   ],
   "source": [
    "#print the total number of images in the dataset\n",
    "print(len(dataset))\n",
    "# print the shape of the images\n",
    "print(dataset[0][0].shape)\n",
    "# print the label of the image\n",
    "print(dataset[0][1])"
   ]
  },
  {
   "cell_type": "markdown",
   "metadata": {},
   "source": [
    "# Model"
   ]
  },
  {
   "cell_type": "markdown",
   "metadata": {},
   "source": [
    "## generator"
   ]
  },
  {
   "cell_type": "code",
   "execution_count": 66,
   "metadata": {},
   "outputs": [],
   "source": [
    "\n",
    "\n",
    "class Generator(nn.Module):\n",
    "    def __init__(self, channels_noise, channels_img, features_g, num_classes, img_size, embed_size):\n",
    "        super(Generator, self).__init__()\n",
    "        self.img_size = img_size\n",
    "        self.net = nn.Sequential(\n",
    "           \n",
    "            self.generator_block_architecture(channels_noise+embed_size, features_g * 16, 4, 1, 0),  # img: 4x4\n",
    "            self.generator_block_architecture(features_g * 16, features_g * 8, 4, 2, 1),  # img: 8x8\n",
    "            self.generator_block_architecture(features_g * 8, features_g * 4, 4, 2, 1),  # img: 16x16\n",
    "            self.generator_block_architecture(features_g * 4, features_g * 2, 4, 2, 1),  # img: 32x32\n",
    "            nn.ConvTranspose2d(\n",
    "                features_g * 2, channels_img, kernel_size=4, stride=2, padding=1\n",
    "            ),\n",
    "     \n",
    "            nn.Tanh(),\n",
    "        )\n",
    "        \n",
    "        self.embed = nn.Embedding(num_classes, embed_size)\n",
    "\n",
    "    def generator_block_architecture(self, in_channels, out_channels, kernel_size, stride, padding):\n",
    "        return nn.Sequential(\n",
    "            nn.ConvTranspose2d(\n",
    "                in_channels,\n",
    "                out_channels,\n",
    "                kernel_size,\n",
    "                stride,\n",
    "                padding,\n",
    "                bias=False,\n",
    "            ),\n",
    "            nn.BatchNorm2d(out_channels),\n",
    "            nn.ReLU(),\n",
    "        )\n",
    "\n",
    "    def forward(self, x, labels):\n",
    "        embedding = self.embed(labels).unsqueeze(2).unsqueeze(3)\n",
    "        x = torch.cat([x, embedding], 1)\n",
    "        return self.net(x)\n"
   ]
  },
  {
   "cell_type": "markdown",
   "metadata": {},
   "source": [
    "## discriminator"
   ]
  },
  {
   "cell_type": "code",
   "execution_count": 67,
   "metadata": {},
   "outputs": [],
   "source": [
    "class Discriminator(nn.Module):\n",
    "    def __init__(self, channels_img, features_d, num_classes, img_size):\n",
    "        super(Discriminator, self).__init__()\n",
    "        self.img_size = img_size\n",
    "        self.disc = nn.Sequential(\n",
    "\n",
    "            nn.Conv2d(\n",
    "                channels_img+1, features_d, kernel_size=4, stride=2, padding=1\n",
    "            ),\n",
    "            nn.LeakyReLU(0.2),\n",
    "            # _block(in_channels, out_channels, kernel_size, stride, padding)\n",
    "            self.dicriminator_block_architecture(features_d, features_d * 2, 4, 2, 1),\n",
    "            self.dicriminator_block_architecture(features_d * 2, features_d * 4, 4, 2, 1),\n",
    "            self.dicriminator_block_architecture(features_d * 4, features_d * 8, 4, 2, 1),\n",
    "       \n",
    "            nn.Conv2d(features_d * 8, 1, kernel_size=4, stride=2, padding=0),\n",
    "            nn.Sigmoid(),\n",
    "        )\n",
    "        \n",
    "        #embedding for conditionning\n",
    "        self.embed = nn.Embedding(num_classes, img_size * img_size)\n",
    "        \n",
    "\n",
    "    def dicriminator_block_architecture(self, in_channels, out_channels, kernel_size, stride, padding):\n",
    "        return nn.Sequential(\n",
    "            nn.Conv2d(\n",
    "                in_channels,\n",
    "                out_channels,\n",
    "                kernel_size,\n",
    "                stride,\n",
    "                padding,\n",
    "                bias=False,\n",
    "            ),\n",
    "            nn.BatchNorm2d(out_channels),\n",
    "            nn.LeakyReLU(0.2),\n",
    "        )\n",
    "\n",
    "    def forward(self, x, labels):\n",
    "        embedding = self.embed(labels).view(labels.shape[0], 1, self.img_size, self.img_size)\n",
    "        x = torch.cat([x, embedding], dim=1)\n",
    "        return self.disc(x)\n"
   ]
  },
  {
   "cell_type": "markdown",
   "metadata": {},
   "source": [
    "--------"
   ]
  },
  {
   "cell_type": "markdown",
   "metadata": {},
   "source": [
    "# Initialization : Model , Loss , Optimizer, data loader"
   ]
  },
  {
   "cell_type": "markdown",
   "metadata": {},
   "source": [
    "### model"
   ]
  },
  {
   "cell_type": "code",
   "execution_count": 68,
   "metadata": {},
   "outputs": [],
   "source": [
    "def initialize_weights(model):\n",
    "    # Initializes weights according to the DCGAN paper\n",
    "    for m in model.modules():\n",
    "        if isinstance(m, (nn.Conv2d, nn.ConvTranspose2d, nn.BatchNorm2d)):\n",
    "            nn.init.normal_(m.weight.data, 0.0, 0.02)"
   ]
  },
  {
   "cell_type": "markdown",
   "metadata": {},
   "source": [
    "### data loader"
   ]
  },
  {
   "cell_type": "code",
   "execution_count": 69,
   "metadata": {},
   "outputs": [],
   "source": [
    "dataloader = DataLoader(dataset, batch_size=BATCH_SIZE, shuffle=True)\n",
    "gen = Generator(NOISE_DIM, CHANNELS_IMG, FEATURES_GEN, NUM_CLASSES, IMAGE_SIZE, GEN_EMBEDDING).to(device)\n",
    "disc = Discriminator(CHANNELS_IMG, FEATURES_DISC, NUM_CLASSES, IMAGE_SIZE).to(device)\n",
    "initialize_weights(gen)\n",
    "initialize_weights(disc)"
   ]
  },
  {
   "cell_type": "markdown",
   "metadata": {},
   "source": [
    "### optimizer, loss"
   ]
  },
  {
   "cell_type": "code",
   "execution_count": 70,
   "metadata": {},
   "outputs": [],
   "source": [
    "opt_gen = optim.Adam(gen.parameters(), lr=LEARNING_RATE, betas=(0.5, 0.999))\n",
    "opt_disc = optim.Adam(disc.parameters(), lr=LEARNING_RATE, betas=(0.5, 0.999))\n",
    "criterion = nn.BCELoss()"
   ]
  },
  {
   "cell_type": "markdown",
   "metadata": {},
   "source": [
    "### tensorboard"
   ]
  },
  {
   "cell_type": "code",
   "execution_count": 78,
   "metadata": {},
   "outputs": [],
   "source": [
    "\n",
    "fixed_noise = torch.randn(100, NOISE_DIM, 1, 1).to(device)\n",
    "#plot loss of generator and critic\n",
    "writer_loss = SummaryWriter(f\"runs/\"+model_name+\"/loss\")\n",
    "writer_real = SummaryWriter(f\"logs/\"+model_name+\"/real\")\n",
    "writer_fake = SummaryWriter(f\"logs/\"+model_name+\"/fake\")"
   ]
  },
  {
   "cell_type": "markdown",
   "metadata": {},
   "source": [
    "----"
   ]
  },
  {
   "cell_type": "markdown",
   "metadata": {},
   "source": [
    "# Training"
   ]
  },
  {
   "cell_type": "code",
   "execution_count": 72,
   "metadata": {},
   "outputs": [
    {
     "data": {
      "text/plain": [
       "Discriminator(\n",
       "  (disc): Sequential(\n",
       "    (0): Conv2d(3, 64, kernel_size=(4, 4), stride=(2, 2), padding=(1, 1))\n",
       "    (1): LeakyReLU(negative_slope=0.2)\n",
       "    (2): Sequential(\n",
       "      (0): Conv2d(64, 128, kernel_size=(4, 4), stride=(2, 2), padding=(1, 1), bias=False)\n",
       "      (1): BatchNorm2d(128, eps=1e-05, momentum=0.1, affine=True, track_running_stats=True)\n",
       "      (2): LeakyReLU(negative_slope=0.2)\n",
       "    )\n",
       "    (3): Sequential(\n",
       "      (0): Conv2d(128, 256, kernel_size=(4, 4), stride=(2, 2), padding=(1, 1), bias=False)\n",
       "      (1): BatchNorm2d(256, eps=1e-05, momentum=0.1, affine=True, track_running_stats=True)\n",
       "      (2): LeakyReLU(negative_slope=0.2)\n",
       "    )\n",
       "    (4): Sequential(\n",
       "      (0): Conv2d(256, 512, kernel_size=(4, 4), stride=(2, 2), padding=(1, 1), bias=False)\n",
       "      (1): BatchNorm2d(512, eps=1e-05, momentum=0.1, affine=True, track_running_stats=True)\n",
       "      (2): LeakyReLU(negative_slope=0.2)\n",
       "    )\n",
       "    (5): Conv2d(512, 1, kernel_size=(4, 4), stride=(2, 2))\n",
       "    (6): Sigmoid()\n",
       "  )\n",
       ")"
      ]
     },
     "execution_count": 72,
     "metadata": {},
     "output_type": "execute_result"
    }
   ],
   "source": [
    "gen.train()\n",
    "disc.train()"
   ]
  },
  {
   "cell_type": "code",
   "execution_count": 76,
   "metadata": {},
   "outputs": [
    {
     "name": "stdout",
     "output_type": "stream",
     "text": [
      "Epoch [0/5] Batch 0/198                   Loss D: 0.5116, loss G: 1.6193\n",
      "Epoch [0/5] Batch 10/198                   Loss D: 0.2567, loss G: 2.3890\n",
      "Epoch [0/5] Batch 20/198                   Loss D: 0.3511, loss G: 1.5749\n",
      "Epoch [0/5] Batch 30/198                   Loss D: 0.4059, loss G: 1.9184\n",
      "Epoch [0/5] Batch 40/198                   Loss D: 0.5546, loss G: 1.6829\n",
      "Epoch [0/5] Batch 50/198                   Loss D: 0.3668, loss G: 1.6407\n",
      "Epoch [0/5] Batch 60/198                   Loss D: 0.5231, loss G: 2.2009\n",
      "Epoch [0/5] Batch 70/198                   Loss D: 0.4959, loss G: 1.5770\n",
      "Epoch [0/5] Batch 80/198                   Loss D: 0.3382, loss G: 1.9848\n",
      "Epoch [0/5] Batch 90/198                   Loss D: 0.4187, loss G: 1.9255\n",
      "Epoch [0/5] Batch 100/198                   Loss D: 0.5440, loss G: 2.1497\n",
      "Epoch [0/5] Batch 110/198                   Loss D: 0.3895, loss G: 2.3953\n",
      "Epoch [0/5] Batch 120/198                   Loss D: 0.4370, loss G: 1.1206\n",
      "Epoch [0/5] Batch 130/198                   Loss D: 0.3616, loss G: 2.2500\n",
      "Epoch [0/5] Batch 140/198                   Loss D: 0.6843, loss G: 3.0438\n",
      "Epoch [0/5] Batch 150/198                   Loss D: 0.5081, loss G: 0.9811\n",
      "Epoch [0/5] Batch 160/198                   Loss D: 0.6585, loss G: 1.3438\n",
      "Epoch [0/5] Batch 170/198                   Loss D: 0.6311, loss G: 0.5358\n",
      "Epoch [0/5] Batch 180/198                   Loss D: 0.5898, loss G: 1.5350\n",
      "Epoch [0/5] Batch 190/198                   Loss D: 0.5728, loss G: 0.7877\n",
      "Epoch [1/5] Batch 0/198                   Loss D: 0.5250, loss G: 2.6163\n",
      "Epoch [1/5] Batch 10/198                   Loss D: 0.6989, loss G: 0.5505\n",
      "Epoch [1/5] Batch 20/198                   Loss D: 0.4947, loss G: 1.4300\n",
      "Epoch [1/5] Batch 30/198                   Loss D: 0.4468, loss G: 1.7204\n",
      "Epoch [1/5] Batch 40/198                   Loss D: 0.8301, loss G: 1.2638\n",
      "Epoch [1/5] Batch 50/198                   Loss D: 0.4863, loss G: 1.8842\n",
      "Epoch [1/5] Batch 60/198                   Loss D: 0.5106, loss G: 1.7509\n",
      "Epoch [1/5] Batch 70/198                   Loss D: 0.7631, loss G: 2.1677\n",
      "Epoch [1/5] Batch 80/198                   Loss D: 0.4819, loss G: 1.7272\n",
      "Epoch [1/5] Batch 90/198                   Loss D: 0.5494, loss G: 1.3903\n",
      "Epoch [1/5] Batch 100/198                   Loss D: 0.5030, loss G: 1.5773\n",
      "Epoch [1/5] Batch 110/198                   Loss D: 0.6810, loss G: 1.3597\n",
      "Epoch [1/5] Batch 120/198                   Loss D: 0.6312, loss G: 1.4639\n",
      "Epoch [1/5] Batch 130/198                   Loss D: 0.4987, loss G: 2.2081\n",
      "Epoch [1/5] Batch 140/198                   Loss D: 0.6372, loss G: 1.1500\n",
      "Epoch [1/5] Batch 150/198                   Loss D: 0.5484, loss G: 1.3903\n",
      "Epoch [1/5] Batch 160/198                   Loss D: 0.5186, loss G: 1.3557\n",
      "Epoch [1/5] Batch 170/198                   Loss D: 0.6001, loss G: 0.9196\n",
      "Epoch [1/5] Batch 180/198                   Loss D: 0.5992, loss G: 1.3665\n",
      "Epoch [1/5] Batch 190/198                   Loss D: 0.5764, loss G: 0.9360\n",
      "Epoch [2/5] Batch 0/198                   Loss D: 0.5520, loss G: 1.5260\n",
      "Epoch [2/5] Batch 10/198                   Loss D: 0.5803, loss G: 1.4816\n",
      "Epoch [2/5] Batch 20/198                   Loss D: 0.6630, loss G: 1.2679\n",
      "Epoch [2/5] Batch 30/198                   Loss D: 0.4699, loss G: 1.5289\n",
      "Epoch [2/5] Batch 40/198                   Loss D: 0.6599, loss G: 0.7869\n",
      "Epoch [2/5] Batch 50/198                   Loss D: 0.4774, loss G: 1.3803\n",
      "Epoch [2/5] Batch 60/198                   Loss D: 0.4609, loss G: 1.6304\n",
      "Epoch [2/5] Batch 70/198                   Loss D: 0.4873, loss G: 1.5797\n",
      "Epoch [2/5] Batch 80/198                   Loss D: 0.5179, loss G: 1.5370\n",
      "Epoch [2/5] Batch 90/198                   Loss D: 0.6118, loss G: 1.4963\n",
      "Epoch [2/5] Batch 100/198                   Loss D: 0.6178, loss G: 1.2405\n",
      "Epoch [2/5] Batch 110/198                   Loss D: 0.5495, loss G: 1.3956\n",
      "Epoch [2/5] Batch 120/198                   Loss D: 0.6255, loss G: 0.7149\n",
      "Epoch [2/5] Batch 130/198                   Loss D: 0.4977, loss G: 1.4969\n",
      "Epoch [2/5] Batch 140/198                   Loss D: 0.5518, loss G: 1.6387\n",
      "Epoch [2/5] Batch 150/198                   Loss D: 0.6606, loss G: 1.1895\n",
      "Epoch [2/5] Batch 160/198                   Loss D: 0.5428, loss G: 1.4996\n",
      "Epoch [2/5] Batch 170/198                   Loss D: 0.7224, loss G: 1.2155\n",
      "Epoch [2/5] Batch 180/198                   Loss D: 0.5450, loss G: 1.4610\n",
      "Epoch [2/5] Batch 190/198                   Loss D: 0.5771, loss G: 1.5419\n",
      "Epoch [3/5] Batch 0/198                   Loss D: 0.6829, loss G: 1.5128\n",
      "Epoch [3/5] Batch 10/198                   Loss D: 0.5833, loss G: 1.2826\n",
      "Epoch [3/5] Batch 20/198                   Loss D: 0.4410, loss G: 1.4030\n",
      "Epoch [3/5] Batch 30/198                   Loss D: 0.5501, loss G: 1.2619\n",
      "Epoch [3/5] Batch 40/198                   Loss D: 0.5867, loss G: 1.1237\n",
      "Epoch [3/5] Batch 50/198                   Loss D: 0.6050, loss G: 1.3971\n",
      "Epoch [3/5] Batch 60/198                   Loss D: 0.5606, loss G: 1.6884\n",
      "Epoch [3/5] Batch 70/198                   Loss D: 0.6082, loss G: 0.9786\n",
      "Epoch [3/5] Batch 80/198                   Loss D: 0.6156, loss G: 1.1150\n",
      "Epoch [3/5] Batch 90/198                   Loss D: 0.5917, loss G: 1.2123\n",
      "Epoch [3/5] Batch 100/198                   Loss D: 0.6870, loss G: 1.3523\n",
      "Epoch [3/5] Batch 110/198                   Loss D: 0.5983, loss G: 1.2418\n",
      "Epoch [3/5] Batch 120/198                   Loss D: 0.5591, loss G: 1.3085\n",
      "Epoch [3/5] Batch 130/198                   Loss D: 0.6813, loss G: 1.6607\n",
      "Epoch [3/5] Batch 140/198                   Loss D: 0.5647, loss G: 1.2687\n",
      "Epoch [3/5] Batch 150/198                   Loss D: 0.5774, loss G: 1.2170\n",
      "Epoch [3/5] Batch 160/198                   Loss D: 0.6197, loss G: 1.4191\n",
      "Epoch [3/5] Batch 170/198                   Loss D: 0.6019, loss G: 1.1562\n",
      "Epoch [3/5] Batch 180/198                   Loss D: 0.6122, loss G: 1.2667\n",
      "Epoch [3/5] Batch 190/198                   Loss D: 0.6574, loss G: 1.2584\n",
      "Epoch [4/5] Batch 0/198                   Loss D: 0.6863, loss G: 1.3930\n",
      "Epoch [4/5] Batch 10/198                   Loss D: 0.6801, loss G: 1.0824\n",
      "Epoch [4/5] Batch 20/198                   Loss D: 0.7089, loss G: 1.1169\n",
      "Epoch [4/5] Batch 30/198                   Loss D: 0.6304, loss G: 1.1535\n",
      "Epoch [4/5] Batch 40/198                   Loss D: 0.6085, loss G: 1.3692\n",
      "Epoch [4/5] Batch 50/198                   Loss D: 0.6878, loss G: 1.1823\n",
      "Epoch [4/5] Batch 60/198                   Loss D: 0.6130, loss G: 1.2200\n",
      "Epoch [4/5] Batch 70/198                   Loss D: 0.7047, loss G: 1.1509\n",
      "Epoch [4/5] Batch 80/198                   Loss D: 0.7245, loss G: 0.7616\n",
      "Epoch [4/5] Batch 90/198                   Loss D: 0.6628, loss G: 1.0488\n",
      "Epoch [4/5] Batch 100/198                   Loss D: 0.6435, loss G: 1.1104\n",
      "Epoch [4/5] Batch 110/198                   Loss D: 0.6023, loss G: 0.9569\n",
      "Epoch [4/5] Batch 120/198                   Loss D: 0.6371, loss G: 0.9389\n",
      "Epoch [4/5] Batch 130/198                   Loss D: 0.6199, loss G: 1.6405\n",
      "Epoch [4/5] Batch 140/198                   Loss D: 0.6064, loss G: 1.2174\n",
      "Epoch [4/5] Batch 150/198                   Loss D: 0.5500, loss G: 1.1657\n",
      "Epoch [4/5] Batch 160/198                   Loss D: 0.5812, loss G: 1.3289\n",
      "Epoch [4/5] Batch 170/198                   Loss D: 0.6580, loss G: 0.8801\n",
      "Epoch [4/5] Batch 180/198                   Loss D: 0.6092, loss G: 1.1785\n",
      "Epoch [4/5] Batch 190/198                   Loss D: 0.5604, loss G: 1.2135\n"
     ]
    }
   ],
   "source": [
    "step = 0\n",
    "\n",
    "for epoch in range(NUM_EPOCHS):\n",
    "    \n",
    "    \n",
    "    #we will track the total loss of the generator and critic for each epoch over the entire dataset\n",
    "    #initialize the total loss of the generator and critic for each epoch to 0\n",
    "    total_loss_gen = 0\n",
    "    total_loss_disc = 0\n",
    "    #move these to device\n",
    "    \n",
    "    \n",
    "    # Target labels not needed! <3 unsupervised\n",
    "    for batch_idx, (real, _) in enumerate(dataloader):\n",
    "        batch_step = 0\n",
    "        real = real.to(device)\n",
    "        noise = torch.randn(BATCH_SIZE, NOISE_DIM, 1, 1).to(device)\n",
    "        fake = gen(noise)\n",
    "\n",
    "        ### Train Discriminator\n",
    "        disc_real = disc(real).reshape(-1)\n",
    "        loss_disc_real = criterion(disc_real, torch.ones_like(disc_real))\n",
    "        disc_fake = disc(fake.detach()).reshape(-1)\n",
    "        loss_disc_fake = criterion(disc_fake, torch.zeros_like(disc_fake))\n",
    "        loss_disc = (loss_disc_real + loss_disc_fake) / 2\n",
    "        disc.zero_grad()\n",
    "        loss_disc.backward()\n",
    "        opt_disc.step()\n",
    "\n",
    "        ### Train Generator:\n",
    "        output = disc(fake).reshape(-1)\n",
    "        loss_gen = criterion(output, torch.ones_like(output))\n",
    "        gen.zero_grad()\n",
    "        loss_gen.backward()\n",
    "        opt_gen.step()\n",
    "        \n",
    "        with torch.no_grad():\n",
    "            total_loss_gen += loss_gen.item()\n",
    "            total_loss_disc += loss_disc.item()\n",
    "            \n",
    "        \n",
    "\n",
    "        # Print losses occasionally and print to tensorboard\n",
    "        if batch_idx % 10 == 0:\n",
    "            print(\n",
    "                f\"Epoch [{epoch}/{NUM_EPOCHS}] Batch {batch_idx}/{len(dataloader)} \\\n",
    "                  Loss D: {loss_disc:.4f}, loss G: {loss_gen:.4f}\"\n",
    "            )\n",
    "            \n",
    "            with torch.no_grad():\n",
    "                               \n",
    "                 #BATCH LOSS---\n",
    "        \n",
    "                #write loss to tensorboard\n",
    "                writer_loss.add_scalar(\"Generator loss Batch\", loss_gen, global_step=batch_step)\n",
    "                writer_loss.add_scalar(\"Discriminator loss Batch\", loss_disc, global_step=batch_step)         \n",
    "                \n",
    "                #FID--\n",
    "                #calculate FID score of this batch\n",
    "                #update the fid_score with real and fake images\n",
    "                real_images_fid = interpolate(real)\n",
    "                fake_images_fid = interpolate(fake)\n",
    "                fid_score.update((real_images_fid, fake_images_fid))\n",
    "                computed_fid_score = fid_score.compute()\n",
    "                print(\"FID score: \", computed_fid_score)\n",
    "                writer_loss.add_scalar(\"FID Score DCGAN\", computed_fid_score, global_step=batch_step)\n",
    "                #reset the fid score\n",
    "                fid_score.reset()\n",
    "                ##FID--\n",
    "                \n",
    "                batch_step += 1 \n",
    "            \n",
    "            \n",
    "            \n",
    "            \n",
    "            \n",
    "\n",
    "    with torch.no_grad():\n",
    "        fake = gen(fixed_noise)\n",
    "        # take out upto 100 examples\n",
    "        img_grid_real = torchvision.utils.make_grid(\n",
    "            real[:100], normalize=True\n",
    "        )\n",
    "        img_grid_fake = torchvision.utils.make_grid(\n",
    "            fake[:100], normalize=True\n",
    "        )\n",
    "\n",
    "        writer_real.add_image(\"Real\", img_grid_real, global_step=step)\n",
    "        writer_fake.add_image(\"Fake\", img_grid_fake, global_step=step)\n",
    "        \n",
    "        \n",
    "        #AVERAGE LOSS---\n",
    "\n",
    "        #get average loss of generator and critic for each epoch\n",
    "        avg_loss_gen = total_loss_gen / len(loader)\n",
    "        avg_loss_disc= total_loss_disc / len(loader)\n",
    "        #write loss to tensorboard\n",
    "        writer_loss.add_scalar(\"Generator loss Epoch\", avg_loss_gen, global_step=batch_step)\n",
    "        writer_loss.add_scalar(\"Discriminator loss Epoch\", avg_loss_disc, global_step=batch_step)\n",
    "        \n",
    "        #AVERAGE LOSS----\n",
    "        \n",
    "        #we will plot the gradient of disc output with respect to the input image\n",
    "        #get the gradient of the disc output with respect to the input image\n",
    "        gradient = torch.autograd.grad(\n",
    "        inputs=real,\n",
    "        outputs=disc_real,\n",
    "        grad_outputs=torch.ones_like(disc_real),\n",
    "        create_graph=True,\n",
    "        retain_graph=True,\n",
    "        )[0]\n",
    "        #flatten the gradient\n",
    "        gradient = gradient.view(gradient.shape[0], -1)\n",
    "        #get the norm of the gradient\n",
    "        gradient_norm = gradient.norm(2, dim=1)\n",
    "        #write gradient norm to tensorboard\n",
    "        writer_loss.add_scalar(\"Gradient norm Disc Real DCGAN\", gradient_norm.mean(), global_step=step)\n",
    "        \n",
    "        #----------------\n",
    "        #we will plot the gradient of critic output with respect to the input image\n",
    "        #get the gradient of the critic output with respect to the input image\n",
    "        gradient = torch.autograd.grad(\n",
    "        inputs=fake,\n",
    "        outputs=disc_fake,\n",
    "        grad_outputs=torch.ones_like(disc_fake),\n",
    "        create_graph=True,\n",
    "        retain_graph=True,\n",
    "        )[0]\n",
    "        #flatten the gradient\n",
    "        gradient = gradient.view(gradient.shape[0], -1)\n",
    "        #get the norm of the gradient\n",
    "        gradient_norm = gradient.norm(2, dim=1)\n",
    "        #write gradient norm to tensorboard\n",
    "        writer_loss.add_scalar(\"Gradient norm Disc Fake DCGAN\", gradient_norm.mean(), global_step=step)\n",
    "        \n",
    "        #----------------\n",
    "        #we will plot the gradient of genrator output with respect to the input \n",
    "        #we will plot the gradient of genrator output with respect to the input \n",
    "        #get the gradient of the generator output with respect to the input noise\n",
    "        gradient = torch.autograd.grad(\n",
    "        inputs=noise,\n",
    "        outputs=output,\n",
    "        grad_outputs=torch.ones_like(output),\n",
    "        create_graph=True,\n",
    "        retain_graph=True,\n",
    "        )[0]\n",
    "        #flatten the gradient\n",
    "        gradient = gradient.view(gradient.shape[0], -1)\n",
    "        #get the norm of the gradient\n",
    "        gradient_norm = gradient.norm(2, dim=1)\n",
    "        #write gradient norm to tensorboard\n",
    "        writer_loss.add_scalar(\"Gradient norm Generator DCGAN\", gradient_norm.mean(), global_step=step)\n",
    "        \n",
    "        #----------------\n",
    "        \n",
    "        #get the gradient of the disc for the parameters weights of first layer\n",
    "        #we will write the norm of the gardient of weights of the first layer of the disc\n",
    "        for name, param in critic.named_parameters():\n",
    "            if name == \"disc.0.weight\":\n",
    "                writer_loss.add_scalar(\"Disc Gradient w.r.t 1st layer DCGAN\", param.grad.norm(), global_step=step)\n",
    "            #also plot the norm of gradient of 2nd layer\n",
    "            elif name == \"disc.2.0.weight\":\n",
    "                writer_loss.add_scalar(\"Disc Gradient w.r.t 2nd layer DCGAN\", param.grad.norm(), global_step=step)\n",
    "                \n",
    "                \n",
    "       \n",
    "\n",
    "    step += 1\n",
    "    \n",
    "    #save the trained model\n",
    "        #check if trained_model folder exists\n",
    "    if not os.path.exists(\"trained_models\"):\n",
    "        os.mkdir(\"trained_models\")\n",
    "    \n",
    "    #now trained_model folder exists\n",
    "    if not os.path.exists(\"trained_models/\"+model_name):\n",
    "        os.mkdir(\"trained_models/\"+model_name)\n",
    "    #check if \"trained_models/\"+model_name     \n",
    "    torch.save(gen.state_dict(), \"trained_models/\"+model_name+\"/gen.pth\")\n",
    "    torch.save(critic.state_dict(), \"trained_models/\"+model_name+\"/disc.pth\")\n",
    "    "
   ]
  },
  {
   "cell_type": "markdown",
   "metadata": {},
   "source": []
  }
 ],
 "metadata": {
  "kernelspec": {
   "display_name": "Python 3.8.13 ('pytorch')",
   "language": "python",
   "name": "python3"
  },
  "language_info": {
   "codemirror_mode": {
    "name": "ipython",
    "version": 3
   },
   "file_extension": ".py",
   "mimetype": "text/x-python",
   "name": "python",
   "nbconvert_exporter": "python",
   "pygments_lexer": "ipython3",
   "version": "3.8.13"
  },
  "orig_nbformat": 4,
  "vscode": {
   "interpreter": {
    "hash": "079402cc50f681fca3bc4b588c8594ae5b0127c6215ec7c89d21fdfb87f97274"
   }
  }
 },
 "nbformat": 4,
 "nbformat_minor": 2
}
